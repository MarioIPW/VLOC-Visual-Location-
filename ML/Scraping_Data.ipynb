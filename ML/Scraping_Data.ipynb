{
  "cells": [
    {
      "cell_type": "code",
      "execution_count": null,
      "metadata": {
        "id": "UdKd0L7Ay-gX"
      },
      "outputs": [],
      "source": [
        "!pip install bing-image-downloader"
      ]
    },
    {
      "cell_type": "code",
      "execution_count": null,
      "metadata": {
        "id": "YE9Wp48w0Dn_"
      },
      "outputs": [],
      "source": [
        "!mkdir dataset_gambar"
      ]
    },
    {
      "cell_type": "code",
      "execution_count": null,
      "metadata": {
        "id": "5ih2bO8a0RYe"
      },
      "outputs": [],
      "source": [
        "from bing_image_downloader import downloader\n",
        "\n",
        "downloader.download('candi prambanan', limit=500, output_dir='dataset_gambar',\n",
        "                    adult_filter_off=True)"
      ]
    },
    {
      "cell_type": "code",
      "execution_count": null,
      "metadata": {
        "id": "OFeAHygkZQ7Y"
      },
      "outputs": [],
      "source": [
        "downloader.download('tumpeng menoreh', limit=500, output_dir='dataset_gambar1',\n",
        "                    adult_filter_off=True)"
      ]
    },
    {
      "cell_type": "code",
      "execution_count": null,
      "metadata": {
        "id": "XxOYicXrZREm"
      },
      "outputs": [],
      "source": [
        "downloader.download('parangtritis', limit=500, output_dir='dataset_gambar2',\n",
        "                    adult_filter_off=True)"
      ]
    },
    {
      "cell_type": "code",
      "execution_count": null,
      "metadata": {
        "id": "AjtGiPXlZRHn"
      },
      "outputs": [],
      "source": [
        "downloader.download('heha sky view', limit=500, output_dir='dataset_gambar3',\n",
        "                    adult_filter_off=True)"
      ]
    },
    {
      "cell_type": "code",
      "source": [
        "!zip -r '/content/dataset_gambar.zip' '/content/dataset_gambar'\n",
        "!zip -r '/content/dataset_gambar1.zip' '/content/dataset_gambar1'\n",
        "!zip -r '/content/dataset_gambar2.zip' '/content/dataset_gambar2'\n",
        "!zip -r '/content/dataset_gambar3.zip' '/content/dataset_gambar3'"
      ],
      "metadata": {
        "id": "zwprFMNE7OZM"
      },
      "execution_count": null,
      "outputs": []
    }
  ],
  "metadata": {
    "colab": {
      "provenance": []
    },
    "kernelspec": {
      "display_name": "Python 3",
      "name": "python3"
    },
    "language_info": {
      "name": "python"
    }
  },
  "nbformat": 4,
  "nbformat_minor": 0
}